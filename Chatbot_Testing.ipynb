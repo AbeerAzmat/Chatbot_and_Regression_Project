{
 "cells": [
  {
   "cell_type": "code",
   "execution_count": null,
   "metadata": {},
   "outputs": [
    {
     "name": "stdout",
     "output_type": "stream",
     "text": [
      "Loading std-startup.xml...done (0.02 seconds)\n",
      "Loading basic_chat.aiml...done (0.01 seconds)\n",
      "Enter your message >> hi\n",
      "hello.\n"
     ]
    }
   ],
   "source": [
    "import aiml\n",
    "\n",
    "# Create the kernel and learn AIML files\n",
    "kernel = aiml.Kernel()\n",
    "kernel.learn(\"std-startup.xml\")\n",
    "kernel.respond(\"load aiml b\")\n",
    "\n",
    "# Press CTRL-C to break this loop\n",
    "while True:\n",
    "    print (kernel.respond(input(\"Enter your message >> \")))"
   ]
  },
  {
   "cell_type": "code",
   "execution_count": null,
   "metadata": {},
   "outputs": [],
   "source": []
  },
  {
   "cell_type": "code",
   "execution_count": null,
   "metadata": {},
   "outputs": [],
   "source": []
  }
 ],
 "metadata": {
  "kernelspec": {
   "display_name": "Python 3",
   "language": "python",
   "name": "python3"
  },
  "language_info": {
   "codemirror_mode": {
    "name": "ipython",
    "version": 3
   },
   "file_extension": ".py",
   "mimetype": "text/x-python",
   "name": "python",
   "nbconvert_exporter": "python",
   "pygments_lexer": "ipython3",
   "version": "3.7.3"
  }
 },
 "nbformat": 4,
 "nbformat_minor": 2
}





# AIML Chatbot in Jupyter Notebook
# Author: Abeer Azmat

import aiml
import os

# Initialize the AIML kernel
kernel = aiml.Kernel()

# Set path to the AIML files (assumes they are in 'aiml_files/')
aiml_folder = "aiml_files"
startup_path = os.path.join(aiml_folder, "std-startup.xml")

# Learn and load AIML files
kernel.learn(startup_path)
kernel.respond("load aiml b")

print("Chatbot is ready. Type 'exit' to stop.\n")

# Run chatbot loop inside notebook
while True:
    user_input = input("You >> ")
    if user_input.lower() == "exit":
        print("Chatbot >> Goodbye!")
        break
    response = kernel.respond(user_input)
    print(f"Chatbot >> {response}")
